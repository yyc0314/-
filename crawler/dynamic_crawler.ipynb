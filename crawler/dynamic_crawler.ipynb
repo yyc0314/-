{
  "nbformat": 4,
  "nbformat_minor": 0,
  "metadata": {
    "colab": {
      "provenance": [],
      "include_colab_link": true
    },
    "kernelspec": {
      "name": "python3",
      "display_name": "Python 3"
    },
    "language_info": {
      "name": "python"
    }
  },
  "cells": [
    {
      "cell_type": "markdown",
      "metadata": {
        "id": "view-in-github",
        "colab_type": "text"
      },
      "source": [
        "<a href=\"https://colab.research.google.com/github/yyc0314/Fooood-map/blob/main/crawler/dynamic_crawler.ipynb\" target=\"_parent\"><img src=\"https://colab.research.google.com/assets/colab-badge.svg\" alt=\"Open In Colab\"/></a>"
      ]
    },
    {
      "cell_type": "code",
      "source": [
        "# -*- coding: utf-8 -*-\n",
        "\"\"\"dynamic.ipynb\n",
        "\n",
        "Original file is located at\n",
        "    https://colab.research.google.com/drive/1RbSbNSCpOPa2yzyVc-vLG1sjiHLgEmQk\n",
        "\n",
        "### 透過指定路徑設定Webdriver\n",
        "* download driver from <a href='https://chromedriver.storage.googleapis.com/index.html'>here</a>\n",
        "\"\"\""
      ],
      "metadata": {
        "id": "zz6RAujxefVx"
      },
      "execution_count": null,
      "outputs": []
    },
    {
      "cell_type": "markdown",
      "source": [
        "import"
      ],
      "metadata": {
        "id": "XnOy_bKVei8v"
      }
    },
    {
      "cell_type": "code",
      "source": [
        "from selenium import webdriver\n",
        "from selenium.webdriver.chrome.service import Service\n",
        "from selenium.webdriver.common.by import By\n",
        "from selenium.webdriver.support.ui import WebDriverWait\n",
        "from selenium.webdriver.support import expected_conditions as EC\n",
        "import requests\n",
        "import json\n",
        "from bs4 import BeautifulSoup\n",
        "import numpy as np\n",
        "import time\n",
        "import re\n",
        "import pandas as pd\n",
        "import csv"
      ],
      "metadata": {
        "id": "KrD21c9seiGb"
      },
      "execution_count": null,
      "outputs": []
    },
    {
      "cell_type": "markdown",
      "source": [
        "path"
      ],
      "metadata": {
        "id": "xaOHonPSeo20"
      }
    },
    {
      "cell_type": "code",
      "source": [
        "r_60_path=\"\"\n",
        "r_60=pd.read_csv(r_60_path)\n",
        "#print(r_60)\n",
        "href=list(r_60[\"href\"])\n",
        "\n",
        "r_60_name=list(r_60[\"restaurant_name\"])\n",
        "for i in r_60_name:\n",
        "    print(i)"
      ],
      "metadata": {
        "id": "-53ppkNBepp8"
      },
      "execution_count": null,
      "outputs": []
    },
    {
      "cell_type": "markdown",
      "source": [
        "特殊字元"
      ],
      "metadata": {
        "id": "ax6DVMIIewCt"
      }
    },
    {
      "cell_type": "code",
      "source": [
        "emoji_pattern = re.compile(\"[\"\n",
        "        u\"\\U0001F600-\\U0001F64F\"  # 表情符號\n",
        "        u\"\\U0001F300-\\U0001F5FF\"  # 圖案\n",
        "        u\"\\U0001F680-\\U0001F6FF\"  # 運輸和地圖\n",
        "        u\"\\U0001F1E0-\\U0001F1FF\"  # 國旗\n",
        "                           \"]+\", flags=re.UNICODE)\n",
        "\n",
        "def rer(sen):\n",
        "    sen=emoji_pattern.sub(r'', sen)\n",
        "    sen=re.sub(r'[，、丶!！?？~～。＝＋－\\\\n-]', '|', sen)\n",
        "    '''sen=re.sub(\",\",\"|\",sen)\n",
        "    sen=re.sub(\"，\",\"|\",sen)\n",
        "    sen=re.sub(\"、\",\"|\",sen)\n",
        "    sen=re.sub(\"丶\",\"|\",sen)\n",
        "    sen=re.sub(\"！\",\"|\",sen)\n",
        "    sen=re.sub(\"？\",\"|\",sen)\n",
        "    sen=re.sub(\"!\",\"|\",sen)\n",
        "    sen=re.sub(\"\\?\",\"|\",sen)\n",
        "    sen=re.sub(\"。\",\"|\",sen)\n",
        "    sen=re.sub(\"～\",\"|\",sen)\n",
        "    sen=re.sub(\"~\",\"|\",sen)\n",
        "    sen=re.sub(\"\\\\n\",\"\",sen)'''\n",
        "    return sen"
      ],
      "metadata": {
        "id": "kQmNBs2veyQ6"
      },
      "execution_count": null,
      "outputs": []
    },
    {
      "cell_type": "markdown",
      "source": [
        "抓餐廳"
      ],
      "metadata": {
        "id": "-QufQLJRe-u_"
      }
    },
    {
      "cell_type": "code",
      "source": [
        "# Set up the webdriver with Service object\n",
        "service = Service('/path/to/chromedriver')\n",
        "driver = webdriver.Chrome(service=service)\n",
        "\n",
        "# Navigate to Google Maps\n",
        "KEYWORD = '高雄市區餐廳'\n",
        "driver.get(f\"https://www.google.com/maps/search/{KEYWORD}\")\n",
        "\n",
        "restaurants = {}\n",
        "\n",
        "#持續捲動頁面，直到餐廳個數夠\n",
        "while len(restaurants)<20:\n",
        "    search_result = driver.find_elements(By.CSS_SELECTOR, '[role=\"article\"]>a')\n",
        "    for item in search_result:\n",
        "        if len(restaurants) >= 20:\n",
        "            break\n",
        "\n",
        "        restaurant_name = item.get_attribute('aria-label')\n",
        "        restaurant_url = item.get_attribute('href')\n",
        "\n",
        "        if restaurant_url not in href:\n",
        "            restaurants[restaurant_name] = {}\n",
        "            restaurants[restaurant_name][\"href\"]=restaurant_url\n",
        "            restaurants[restaurant_name][\"star\"]=[]\n",
        "            restaurants[restaurant_name][\"tag\"]=[]\n",
        "            restaurants[restaurant_name][\"comment\"]=[]\n",
        "\n",
        "            print(restaurant_name,restaurant_url,len(restaurants))\n",
        "\n",
        "    #print(restaurants)\n",
        "\n",
        "    if len(restaurants)<20:\n",
        "        time.sleep(2)\n",
        "        driver.execute_script(\"arguments[0].scrollIntoView();\", driver.find_element(By.CLASS_NAME, 'qjESne'))\n",
        "print(len(restaurants))\n",
        "\n",
        "path=\"\" #\\\\rs_10.csv\""
      ],
      "metadata": {
        "id": "-Kgf6Yd7e7fJ"
      },
      "execution_count": null,
      "outputs": []
    },
    {
      "cell_type": "code",
      "execution_count": null,
      "metadata": {
        "id": "zmyyaAXZnx5b"
      },
      "outputs": [],
      "source": [
        "# CSV欄位\n",
        "fieldnames = [\"restaurant_name\", \"href\", \"tag\", \"comment\", \"star\"]\n",
        "\n",
        "with open(\"rs_100.csv\", mode='a',encoding=\"utf-8\", newline=\"\") as csv_file:\n",
        "    writer = csv.DictWriter(csv_file,fieldnames=fieldnames)\n",
        "    #writer.writeheader() # 寫入欄位\n",
        "\n",
        "    for restaurant_name in restaurants:\n",
        "        driver.get(f\"{restaurants[restaurant_name]['href']}\")\n",
        "        #點評論->到總評論\n",
        "        driver.find_element(By.XPATH,\"//*[@id='QA0Szd']/div/div/div[1]/div[2]/div/div[1]/div/div/div[3]/div/div/button[2]\").click()\n",
        "        i=0\n",
        "        #評論下滑\n",
        "        while True:\n",
        "            try:\n",
        "                driver.execute_script(\"arguments[0].scrollIntoView();\", driver.find_element(By.CLASS_NAME, 'qjESne'))\n",
        "                time.sleep(5)\n",
        "                i+=1\n",
        "                if i%10==0:\n",
        "                    print(restaurant_name,i)\n",
        "                j=0\n",
        "                reviews = driver.find_elements(By.CLASS_NAME, 'MyEned')\n",
        "                for review in reviews:\n",
        "                    # 展開評論全文\n",
        "                    more_btn = review.find_elements(By.CSS_SELECTOR, 'span:nth-child(2) > button')\n",
        "                    if j%10==0:\n",
        "                        print(\"open\",j)\n",
        "                    j+=1\n",
        "\n",
        "                    if len(more_btn) > 0:\n",
        "                        more_btn[0].click()\n",
        "                        time.sleep(1)\n",
        "\n",
        "                if driver.execute_script(\"return window.innerHeight+window.pageYOffset\") > driver.execute_script(\"return document.body.scrollHeight\"):\n",
        "                    break\n",
        "                if i>100:\n",
        "                    break\n",
        "            except:\n",
        "                break\n",
        "\n",
        "        print(restaurant_name,\"buttom\")\n",
        "        reviews = driver.find_elements(By.CLASS_NAME, 'MyEned')\n",
        "\n",
        "        i=0\n",
        "        '''for review in reviews:\n",
        "            # 展開評論全文\n",
        "            more_btn = review.find_elements(By.CSS_SELECTOR, 'span:nth-child(2) > button')\n",
        "            print(i)\n",
        "            i+=1\n",
        "            if len(more_btn) > 0:\n",
        "                more_btn[0].click()\n",
        "                time.sleep(1)'''\n",
        "                #print(\"|-|\")\n",
        "        soup=BeautifulSoup(driver.page_source, 'html.parser')\n",
        "\n",
        "        #抓評分\n",
        "        star = driver.find_element(By.CSS_SELECTOR, 'div.jANrlb > div.fontDisplayLarge')\n",
        "        restaurants[restaurant_name][\"star\"].append(float(star.text))\n",
        "        #restaurants[restaurant_name][\"href\"]=restaurant_url\n",
        "        #print(star.text,\"kkk\")\n",
        "\n",
        "        #抓評論+資料清理\n",
        "        comments = soup.find_all('div', {'class':  'MyEned'})\n",
        "        for cm in comments:\n",
        "            sen=cm.text\n",
        "            comment=\"\"\n",
        "            sen=rer(sen)\n",
        "            comment+=sen\n",
        "            #print(comment)\n",
        "            restaurants[restaurant_name][\"comment\"].append(comment)\n",
        "            #print(comment.text)\n",
        "\n",
        "        #抓tag\n",
        "        tags = driver.find_elements(By.CSS_SELECTOR, 'button > span > span.uEubGf.fontBodyMedium')\n",
        "        i=0\n",
        "        for tag in tags:\n",
        "            if tag.text!=\"\" and i!=0:\n",
        "                restaurants[restaurant_name][\"tag\"].append((tag.text))\n",
        "                #print(tag.text)\n",
        "            i+=1\n",
        "\n",
        "        print(restaurant_name,len(restaurants[restaurant_name][\"comment\"]))\n",
        "\n",
        "        writer.writerow({\n",
        "                \"restaurant_name\": restaurant_name,\n",
        "                \"href\": restaurants[restaurant_name][\"href\"],\n",
        "                \"tag\": restaurants[restaurant_name][\"tag\"],\n",
        "                \"comment\": restaurants[restaurant_name][\"comment\"],\n",
        "                \"star\": restaurants[restaurant_name][\"star\"]\n",
        "            })"
      ]
    },
    {
      "cell_type": "code",
      "source": [
        "for r in restaurants:\n",
        "    print(r)\n",
        "    print(restaurants[r][\"href\"])\n",
        "    print(restaurants[r][\"star\"])\n",
        "    print(len(restaurants[r][\"comment\"]))\n",
        "    print(restaurants[r][\"tag\"])"
      ],
      "metadata": {
        "id": "wo_eKFcufia7"
      },
      "execution_count": null,
      "outputs": []
    }
  ]
}